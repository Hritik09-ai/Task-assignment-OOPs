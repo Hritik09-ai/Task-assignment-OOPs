{
 "cells": [
  {
   "cell_type": "code",
   "execution_count": 1,
   "id": "751d2abf-a6bc-4553-8f0b-ea6bf2f0b5b9",
   "metadata": {},
   "outputs": [],
   "source": [
    "# QUESTION.1 Create a vehicle class with an init methord having instance variable as name_of_vehicle,max_speed and \n",
    "# average_of_vehicle.\n",
    "# ANSWER \n",
    "class vehicle :\n",
    "    def __init__(self,name_of_vehicle,max_speed,average_of_vehicle):\n",
    "        self.name_of_vehicle = name_of_vehicle\n",
    "        self.max_speed = max_speed\n",
    "        self.average_of_vehicle = average_of_vehicle"
   ]
  },
  {
   "cell_type": "code",
   "execution_count": null,
   "id": "b136ec48-caea-440e-b5cd-75cab3bd5e96",
   "metadata": {},
   "outputs": [],
   "source": []
  },
  {
   "cell_type": "code",
   "execution_count": 12,
   "id": "79213065-de5f-4028-88f5-a6d06eac5d23",
   "metadata": {},
   "outputs": [
    {
     "name": "stdout",
     "output_type": "stream",
     "text": [
      "sedan has a seating capacity of 5.\n"
     ]
    }
   ],
   "source": [
    "# QUESTION.2 Create a child class car from the vehicle class created in ques 1, which will inherit the vehicle class.\n",
    "# Create a methord named seating_capacity which takes capacity as an argument and return the name of the vehicle and its \n",
    "# seating capacity.\n",
    "\n",
    "class car(vehicle):\n",
    "    def seating_capacity(self,capacity):\n",
    "        return f\"{self.name_of_vehicle} has a seating capacity of {capacity}.\"\n",
    "    \n",
    "car_instance = car(\"sedan\" ,150,60)    \n",
    "print(car_instance.seating_capacity(5))"
   ]
  },
  {
   "cell_type": "code",
   "execution_count": null,
   "id": "a20f7273-2a14-4239-a181-286ccbed7571",
   "metadata": {},
   "outputs": [],
   "source": []
  },
  {
   "cell_type": "code",
   "execution_count": 13,
   "id": "c42e40b5-75e5-4b68-8e57-493465456b13",
   "metadata": {},
   "outputs": [],
   "source": [
    "# QUESTION.3 What is multiple inheritance? Write a python code to demontrate multiple inheritance.\n",
    "# ANSWER Multiple inheritance is a concept in object-oriented programming where a class inherit attributes and behaviors \n",
    "# from more than one parent class . This means a child classes, allowing it to incorporate features from all of them.\n",
    "\n",
    "class class1 :\n",
    "    def test_class1(self):\n",
    "        return \"this is methord of class1\"\n",
    "\n",
    "class class2 :\n",
    "    def test_class2(self):\n",
    "        return \"this is methord of class2\"\n",
    "\n",
    "class class3(class1,class2):\n",
    "    pass"
   ]
  },
  {
   "cell_type": "code",
   "execution_count": 14,
   "id": "96536efe-fd8e-4448-b847-cae0ea65dad2",
   "metadata": {},
   "outputs": [],
   "source": [
    "c = class3()"
   ]
  },
  {
   "cell_type": "code",
   "execution_count": 16,
   "id": "2433b455-3e64-4ddc-8d88-5715e75499e9",
   "metadata": {},
   "outputs": [
    {
     "data": {
      "text/plain": [
       "'this is methord of class1'"
      ]
     },
     "execution_count": 16,
     "metadata": {},
     "output_type": "execute_result"
    }
   ],
   "source": [
    "c.test_class1()"
   ]
  },
  {
   "cell_type": "code",
   "execution_count": 17,
   "id": "6179dd89-d2c1-4c09-8382-91c439ae566a",
   "metadata": {},
   "outputs": [
    {
     "data": {
      "text/plain": [
       "'this is methord of class2'"
      ]
     },
     "execution_count": 17,
     "metadata": {},
     "output_type": "execute_result"
    }
   ],
   "source": [
    "c.test_class2()"
   ]
  },
  {
   "cell_type": "code",
   "execution_count": null,
   "id": "097c21a3-c5aa-4b26-9587-aee25495e1a8",
   "metadata": {},
   "outputs": [],
   "source": []
  },
  {
   "cell_type": "code",
   "execution_count": 3,
   "id": "cb473c31-30a1-4305-bb4d-7d579208c2e3",
   "metadata": {},
   "outputs": [],
   "source": [
    "# QUESTION.4 What are getter and setter in python ? Create a class and create a getter and a setter method in this class.\n",
    "# ANSWER In Python, getter and setter methords are  used to access and modified the private attributes of a class. They \n",
    "# provide controlled access to class attributes by encapsulating them. Here's an example of a class with getter and \n",
    "# setter methods:\n",
    "class Person :\n",
    "    def __init__(self,name, age ):\n",
    "        self.__name = name\n",
    "        self.__age = age\n",
    "    \n",
    "    def get_name(self):\n",
    "        return self.__name\n",
    "    \n",
    "    def get_age(self):\n",
    "        return self.__age\n",
    "    \n",
    "    def set_name(self, new_name):\n",
    "        self.__name = new_name\n",
    "       \n",
    "    def set_age(self, new_age):\n",
    "        if new_age >= 0 :\n",
    "            self.__age = new_age\n",
    "           \n",
    "        else:\n",
    "            print('age cannot be negative.')"
   ]
  },
  {
   "cell_type": "code",
   "execution_count": 4,
   "id": "ef5b2094-f5b1-4f9a-8ddc-7bd2744e740f",
   "metadata": {},
   "outputs": [],
   "source": [
    "Person1 = Person('Hritik' , 22)"
   ]
  },
  {
   "cell_type": "code",
   "execution_count": 5,
   "id": "888cc2ee-e791-4b50-aff2-0fbb03f024df",
   "metadata": {},
   "outputs": [
    {
     "name": "stdout",
     "output_type": "stream",
     "text": [
      "Name Hritik\n",
      "Age 22\n"
     ]
    }
   ],
   "source": [
    "print('Name',Person1.get_name())\n",
    "print('Age',Person1.get_age())\n",
    "\n"
   ]
  },
  {
   "cell_type": "code",
   "execution_count": 6,
   "id": "0681ce8f-b355-49bf-8950-87e676aeba28",
   "metadata": {},
   "outputs": [],
   "source": [
    "Person1.set_name('ghalot')\n",
    "Person1.set_age(1000)"
   ]
  },
  {
   "cell_type": "code",
   "execution_count": 7,
   "id": "8701e547-f550-4d3d-b255-89910862a025",
   "metadata": {},
   "outputs": [
    {
     "name": "stdout",
     "output_type": "stream",
     "text": [
      "updated Name: ghalot\n",
      "updated Name : 1000\n"
     ]
    }
   ],
   "source": [
    "print('updated Name:', Person1.get_name())\n",
    "print('updated Name :', Person1.get_age())"
   ]
  },
  {
   "cell_type": "code",
   "execution_count": null,
   "id": "a71ce397-8b51-465d-850f-35e385965e3e",
   "metadata": {},
   "outputs": [],
   "source": []
  },
  {
   "cell_type": "code",
   "execution_count": 10,
   "id": "80aea233-8523-462d-b88e-06d23fb812da",
   "metadata": {},
   "outputs": [],
   "source": [
    "# QUESTION.5 What is method overiding in python ? write a python code to demonstrate methord overriding.\n",
    "# ANSWER Method overriding is an ability of any object-oriented programming language that alllows a subclass or a child \n",
    "# class to provide a specific implementation of a method that is already provided by one of its super -classes or parent\n",
    "# classes. when a method in a subclasses has the same name, same parameter or signature and same return type as a method\n",
    "# its super class, then the method in the subclass is said to override the method in the super-class.\n",
    "\n",
    "class Parent():\n",
    "    def __init__(self):\n",
    "        self.value = 'Inside Parent'\n",
    "       \n",
    "    def show(self):\n",
    "        print(self.value)\n",
    "        \n",
    "      "
   ]
  },
  {
   "cell_type": "code",
   "execution_count": 11,
   "id": "7cd70ea6-5357-4f67-b779-0cabbe9c1eb0",
   "metadata": {},
   "outputs": [],
   "source": [
    "class child(Parent):\n",
    "            def __init__(self):\n",
    "                self.value = 'Inside child'\n",
    "               \n",
    "            def show(self):\n",
    "                print(self.value)\n"
   ]
  },
  {
   "cell_type": "code",
   "execution_count": 12,
   "id": "4c43d151-328c-429b-a728-24145bcc5899",
   "metadata": {},
   "outputs": [],
   "source": [
    "obj1=Parent()\n",
    "obj2=child()"
   ]
  },
  {
   "cell_type": "code",
   "execution_count": 13,
   "id": "976ff21b-cdbc-424f-a613-d35fb9ec2a73",
   "metadata": {},
   "outputs": [
    {
     "name": "stdout",
     "output_type": "stream",
     "text": [
      "Inside Parent\n",
      "Inside child\n"
     ]
    }
   ],
   "source": [
    "obj1.show()\n",
    "obj2.show()"
   ]
  },
  {
   "cell_type": "code",
   "execution_count": null,
   "id": "93190ece-197e-44c5-a1aa-18ea1aff01a0",
   "metadata": {},
   "outputs": [],
   "source": []
  }
 ],
 "metadata": {
  "kernelspec": {
   "display_name": "Python 3 (ipykernel)",
   "language": "python",
   "name": "python3"
  },
  "language_info": {
   "codemirror_mode": {
    "name": "ipython",
    "version": 3
   },
   "file_extension": ".py",
   "mimetype": "text/x-python",
   "name": "python",
   "nbconvert_exporter": "python",
   "pygments_lexer": "ipython3",
   "version": "3.10.8"
  }
 },
 "nbformat": 4,
 "nbformat_minor": 5
}
